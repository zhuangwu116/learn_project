{
 "cells": [
  {
   "cell_type": "code",
   "execution_count": 8,
   "metadata": {},
   "outputs": [
    {
     "name": "stdout",
     "output_type": "stream",
     "text": [
      "['RID', 'age', 'income', 'student', 'credit_rating', 'Class_buys_computer']\n",
      "['1', 'youth', 'high', 'no', 'fair', 'no']\n",
      "['2', 'youth', 'high', 'no', 'excellent', 'no']\n",
      "['3', 'middle_aged', 'high', 'no', 'fair', 'yes']\n",
      "['4', 'senior', 'medium', 'no', 'fair', 'yes']\n",
      "['5', 'senior', 'low', 'yes', 'fair', 'yes']\n",
      "['6', 'senior', 'low', 'yes', 'excellent', 'no']\n",
      "['7', 'middle_aged', 'low', 'yes', 'excellent', 'yes']\n",
      "['8', 'youth', 'medium', 'no', 'fair', 'no']\n",
      "['9', 'youth', 'low', 'yes', 'fair', 'yes']\n",
      "['10', 'senior', 'medium', 'yes', 'fair', 'yes']\n",
      "['11', 'youth', 'medium', 'yes', 'excellent', 'yes']\n",
      "['12', 'middle_aged', 'medium', 'no', 'excellent', 'yes']\n",
      "['13', 'middle_aged', 'high', 'yes', 'fair', 'yes']\n",
      "['14', 'senior', 'medium', 'no', 'excellent', 'no']\n",
      "[{'credit_rating': 'fair', 'age': 'youth', 'student': 'no', 'income': 'high'}, {'credit_rating': 'excellent', 'age': 'youth', 'student': 'no', 'income': 'high'}, {'credit_rating': 'fair', 'age': 'middle_aged', 'student': 'no', 'income': 'high'}, {'credit_rating': 'fair', 'age': 'senior', 'student': 'no', 'income': 'medium'}, {'credit_rating': 'fair', 'age': 'senior', 'student': 'yes', 'income': 'low'}, {'credit_rating': 'excellent', 'age': 'senior', 'student': 'yes', 'income': 'low'}, {'credit_rating': 'excellent', 'age': 'middle_aged', 'student': 'yes', 'income': 'low'}, {'credit_rating': 'fair', 'age': 'youth', 'student': 'no', 'income': 'medium'}, {'credit_rating': 'fair', 'age': 'youth', 'student': 'yes', 'income': 'low'}, {'credit_rating': 'fair', 'age': 'senior', 'student': 'yes', 'income': 'medium'}, {'credit_rating': 'excellent', 'age': 'youth', 'student': 'yes', 'income': 'medium'}, {'credit_rating': 'excellent', 'age': 'middle_aged', 'student': 'no', 'income': 'medium'}, {'credit_rating': 'fair', 'age': 'middle_aged', 'student': 'yes', 'income': 'high'}, {'credit_rating': 'excellent', 'age': 'senior', 'student': 'no', 'income': 'medium'}]\n"
     ]
    }
   ],
   "source": [
    "%matplotlib inline\n",
    "from sklearn.feature_extraction import DictVectorizer\n",
    "import csv\n",
    "from sklearn import preprocessing\n",
    "from sklearn import tree\n",
    "from sklearn.externals.six import StringIO\n",
    "import os\n",
    "allElectronicsData=open(r'/home/zhuangwu/PycharmProjects/learnProject/learn.csv','rb')\n",
    "reader=csv.reader(allElectronicsData)\n",
    "headers=reader.next()\n",
    "print(headers)\n",
    "featureList=[]\n",
    "labelList=[]\n",
    "for row in reader:\n",
    "    print(row)\n",
    "    labelList.append(row[len(row)-1])\n",
    "    rowDict={}\n",
    "    for i in range(1,len(row) -1 ):\n",
    "        rowDict[headers[i]]=row[i]\n",
    "    featureList.append(rowDict)\n",
    "print(featureList)"
   ]
  },
  {
   "cell_type": "code",
   "execution_count": 9,
   "metadata": {},
   "outputs": [],
   "source": [
    "vec=DictVectorizer()"
   ]
  },
  {
   "cell_type": "code",
   "execution_count": 10,
   "metadata": {
    "collapsed": true
   },
   "outputs": [],
   "source": [
    "dummyX=vec.fit_transform(featureList).toarray()"
   ]
  },
  {
   "cell_type": "code",
   "execution_count": 11,
   "metadata": {},
   "outputs": [
    {
     "name": "stdout",
     "output_type": "stream",
     "text": [
      "dummyX:[[ 0.  0.  1.  0.  1.  1.  0.  0.  1.  0.]\n",
      " [ 0.  0.  1.  1.  0.  1.  0.  0.  1.  0.]\n",
      " [ 1.  0.  0.  0.  1.  1.  0.  0.  1.  0.]\n",
      " [ 0.  1.  0.  0.  1.  0.  0.  1.  1.  0.]\n",
      " [ 0.  1.  0.  0.  1.  0.  1.  0.  0.  1.]\n",
      " [ 0.  1.  0.  1.  0.  0.  1.  0.  0.  1.]\n",
      " [ 1.  0.  0.  1.  0.  0.  1.  0.  0.  1.]\n",
      " [ 0.  0.  1.  0.  1.  0.  0.  1.  1.  0.]\n",
      " [ 0.  0.  1.  0.  1.  0.  1.  0.  0.  1.]\n",
      " [ 0.  1.  0.  0.  1.  0.  0.  1.  0.  1.]\n",
      " [ 0.  0.  1.  1.  0.  0.  0.  1.  0.  1.]\n",
      " [ 1.  0.  0.  1.  0.  0.  0.  1.  1.  0.]\n",
      " [ 1.  0.  0.  0.  1.  1.  0.  0.  0.  1.]\n",
      " [ 0.  1.  0.  1.  0.  0.  0.  1.  1.  0.]]\n",
      "['age=middle_aged', 'age=senior', 'age=youth', 'credit_rating=excellent', 'credit_rating=fair', 'income=high', 'income=low', 'income=medium', 'student=no', 'student=yes']\n",
      "labellist:['no', 'no', 'yes', 'yes', 'yes', 'no', 'yes', 'no', 'yes', 'yes', 'yes', 'yes', 'yes', 'no']\n"
     ]
    }
   ],
   "source": [
    "print(\"dummyX:\"+str(dummyX))\n",
    "print(vec.get_feature_names())\n",
    "print(\"labellist:\"+str(labelList))"
   ]
  },
  {
   "cell_type": "code",
   "execution_count": 12,
   "metadata": {},
   "outputs": [
    {
     "name": "stdout",
     "output_type": "stream",
     "text": [
      "dummyY:[[0]\n",
      " [0]\n",
      " [1]\n",
      " [1]\n",
      " [1]\n",
      " [0]\n",
      " [1]\n",
      " [0]\n",
      " [1]\n",
      " [1]\n",
      " [1]\n",
      " [1]\n",
      " [1]\n",
      " [0]]\n"
     ]
    }
   ],
   "source": [
    "lb=preprocessing.LabelBinarizer()\n",
    "dummyY=lb.fit_transform(labelList)\n",
    "print(\"dummyY:\"+str(dummyY))"
   ]
  },
  {
   "cell_type": "code",
   "execution_count": 13,
   "metadata": {},
   "outputs": [
    {
     "name": "stdout",
     "output_type": "stream",
     "text": [
      "clf:DecisionTreeClassifier(class_weight=None, criterion='entropy', max_depth=None,\n",
      "            max_features=None, max_leaf_nodes=None,\n",
      "            min_impurity_split=1e-07, min_samples_leaf=1,\n",
      "            min_samples_split=2, min_weight_fraction_leaf=0.0,\n",
      "            presort=False, random_state=None, splitter='best')\n"
     ]
    }
   ],
   "source": [
    "clf=tree.DecisionTreeClassifier(criterion='entropy')\n",
    "clf=clf.fit(dummyX,dummyY)\n",
    "print(\"clf:\"+str(clf))"
   ]
  },
  {
   "cell_type": "code",
   "execution_count": 23,
   "metadata": {},
   "outputs": [
    {
     "name": "stdout",
     "output_type": "stream",
     "text": [
      "oneRowX:[ 1.  1.  1.  1.  1.  1.  1.  1.  1.  1.]\n",
      "newRowX:[ 1.  1.  0.  1.  1.  1.  1.  1.  1.  1.]\n",
      "predictedY:[1]\n"
     ]
    },
    {
     "name": "stderr",
     "output_type": "stream",
     "text": [
      "/home/zhuangwu/virtualenv/pandas_venv/local/lib/python2.7/site-packages/sklearn/utils/validation.py:395: DeprecationWarning: Passing 1d arrays as data is deprecated in 0.17 and will raise ValueError in 0.19. Reshape your data either using X.reshape(-1, 1) if your data has a single feature or X.reshape(1, -1) if it contains a single sample.\n",
      "  DeprecationWarning)\n"
     ]
    }
   ],
   "source": [
    "with open(\"lern.dot\",\"w\") as f:\n",
    "    f=tree.export_graphviz(clf,feature_names=vec.get_feature_names(),out_file=f)\n",
    "oneRowX=dummyX[0,:]\n",
    "print(\"oneRowX:\"+str(oneRowX))\n",
    "newRowX = oneRowX\n",
    "newRowX[0]=1\n",
    "newRowX[2]=0\n",
    "print(\"newRowX:\"+str(newRowX))\n",
    "predictedY=clf.predict(newRowX)\n",
    "print(\"predictedY:\"+str(predictedY))"
   ]
  },
  {
   "cell_type": "code",
   "execution_count": null,
   "metadata": {
    "collapsed": true
   },
   "outputs": [],
   "source": []
  }
 ],
 "metadata": {
  "kernelspec": {
   "display_name": "Python 2",
   "language": "python",
   "name": "python2"
  },
  "language_info": {
   "codemirror_mode": {
    "name": "ipython",
    "version": 2
   },
   "file_extension": ".py",
   "mimetype": "text/x-python",
   "name": "python",
   "nbconvert_exporter": "python",
   "pygments_lexer": "ipython2",
   "version": "2.7.13"
  }
 },
 "nbformat": 4,
 "nbformat_minor": 2
}
